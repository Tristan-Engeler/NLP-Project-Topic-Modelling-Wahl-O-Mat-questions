{
 "cells": [
  {
   "cell_type": "markdown",
   "id": "00cbf498",
   "metadata": {},
   "source": [
    "# Plotting the Eurobameter average results"
   ]
  },
  {
   "cell_type": "markdown",
   "id": "1f6f1d11",
   "metadata": {},
   "source": [
    "## Making a series out of the average importance of each issue "
   ]
  },
  {
   "cell_type": "code",
   "execution_count": 116,
   "id": "8280c5ca",
   "metadata": {
    "scrolled": false
   },
   "outputs": [
    {
     "name": "stdout",
     "output_type": "stream",
     "text": [
      "Crime                    16.20\n",
      "Defense                   4.82\n",
      "Economic Situation       27.08\n",
      "Energy related issues     4.85\n",
      "Government Debt          13.21\n",
      "Health Care System       12.22\n",
      "Housing                   5.00\n",
      "Immigration              14.37\n",
      "Pensions                 12.14\n",
      "Environment              14.20\n",
      "Public Transport          0.94\n",
      "Inflation                17.66\n",
      "Taxation                  5.80\n",
      "Terrorism                 8.82\n",
      "Education                15.84\n",
      "Unemployment             40.10\n",
      "dtype: float64\n"
     ]
    }
   ],
   "source": [
    "# import pandas as pd\n",
    "import pandas as pd\n",
    "  \n",
    "# import numpy as np\n",
    "import numpy as np\n",
    "  \n",
    "# simple array\n",
    "data = np.array([16.2, 4.82, 27.08, 4.85, 13.21, 12.22, 5, 14.37, 12.14, 14.2, 0.94, 17.66, 5.8, 8.82, 15.84, 40.1])\n",
    "\n",
    "ser = pd.Series(data, index = ['Crime', 'Defense', 'Economic Situation', 'Energy related issues', 'Government Debt', 'Health Care System', 'Housing', 'Immigration', 'Pensions', 'Environment', 'Public Transport', 'Inflation', 'Taxation', 'Terrorism', 'Education', 'Unemployment'])\n",
    "print(ser)"
   ]
  },
  {
   "cell_type": "code",
   "execution_count": 117,
   "id": "7738c2db",
   "metadata": {
    "scrolled": true
   },
   "outputs": [
    {
     "data": {
      "text/plain": [
       "Index(['Crime', 'Defense', 'Economic Situation', 'Energy related issues',\n",
       "       'Government Debt', 'Health Care System', 'Housing', 'Immigration',\n",
       "       'Pensions', 'Environment', 'Public Transport', 'Inflation', 'Taxation',\n",
       "       'Terrorism', 'Education', 'Unemployment'],\n",
       "      dtype='object')"
      ]
     },
     "execution_count": 117,
     "metadata": {},
     "output_type": "execute_result"
    }
   ],
   "source": [
    "ser.index"
   ]
  },
  {
   "cell_type": "code",
   "execution_count": 78,
   "id": "99776bdb",
   "metadata": {},
   "outputs": [
    {
     "data": {
      "text/plain": [
       "array([16.2 ,  4.82, 27.08,  4.85, 13.21, 12.22,  5.  , 14.37, 12.14,\n",
       "       14.2 ,  0.94, 17.66,  5.8 ,  8.82, 15.84, 40.1 ])"
      ]
     },
     "execution_count": 78,
     "metadata": {},
     "output_type": "execute_result"
    }
   ],
   "source": [
    "ser.values"
   ]
  },
  {
   "cell_type": "markdown",
   "id": "ef3b1e8b",
   "metadata": {},
   "source": [
    "## Plotting as bar chart"
   ]
  },
  {
   "cell_type": "code",
   "execution_count": 79,
   "id": "6fb1c0e4",
   "metadata": {
    "scrolled": true
   },
   "outputs": [
    {
     "data": {
      "text/plain": [
       "<AxesSubplot:>"
      ]
     },
     "execution_count": 79,
     "metadata": {},
     "output_type": "execute_result"
    },
    {
     "data": {
      "image/png": "[encoded data removed]",
      "text/plain": [
       "<Figure size 432x288 with 1 Axes>"
      ]
     },
     "metadata": {
      "needs_background": "light"
     },
     "output_type": "display_data"
    }
   ],
   "source": [
    "ser.plot.bar()"
   ]
  },
  {
   "cell_type": "code",
   "execution_count": 119,
   "id": "773f8a8c",
   "metadata": {},
   "outputs": [
    {
     "data": {
      "text/plain": [
       "Public Transport          0.94\n",
       "Defense                   4.82\n",
       "Energy related issues     4.85\n",
       "Housing                   5.00\n",
       "Taxation                  5.80\n",
       "Terrorism                 8.82\n",
       "Pensions                 12.14\n",
       "Health Care System       12.22\n",
       "Government Debt          13.21\n",
       "Environment              14.20\n",
       "Immigration              14.37\n",
       "Education                15.84\n",
       "Crime                    16.20\n",
       "Inflation                17.66\n",
       "Economic Situation       27.08\n",
       "Unemployment             40.10\n",
       "dtype: float64"
      ]
     },
     "execution_count": 119,
     "metadata": {},
     "output_type": "execute_result"
    }
   ],
   "source": [
    "ser1 = ser.sort_values()\n",
    "ser1"
   ]
  },
  {
   "cell_type": "markdown",
   "id": "4f85be9d",
   "metadata": {},
   "source": [
    "## Plotting in order of relevance"
   ]
  },
  {
   "cell_type": "code",
   "execution_count": 120,
   "id": "d33f47d7",
   "metadata": {},
   "outputs": [
    {
     "data": {
      "text/plain": [
       "<AxesSubplot:>"
      ]
     },
     "execution_count": 120,
     "metadata": {},
     "output_type": "execute_result"
    },
    {
     "data": {
      "image/png": "[encoded data removed]",
      "text/plain": [
       "<Figure size 432x288 with 1 Axes>"
      ]
     },
     "metadata": {
      "needs_background": "light"
     },
     "output_type": "display_data"
    }
   ],
   "source": [
    "ser1.plot.bar()"
   ]
  }
 ],
 "metadata": {
  "kernelspec": {
   "display_name": "Python 3",
   "language": "python",
   "name": "python3"
  },
  "language_info": {
   "codemirror_mode": {
    "name": "ipython",
    "version": 3
   },
   "file_extension": ".py",
   "mimetype": "text/x-python",
   "name": "python",
   "nbconvert_exporter": "python",
   "pygments_lexer": "ipython3",
   "version": "3.8.8"
  }
 },
 "nbformat": 4,
 "nbformat_minor": 5
}
